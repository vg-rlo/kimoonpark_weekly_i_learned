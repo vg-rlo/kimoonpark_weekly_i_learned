{
 "cells": [
  {
   "cell_type": "code",
   "execution_count": 12,
   "id": "presidential-layout",
   "metadata": {},
   "outputs": [],
   "source": [
    "import matplotlib.pyplot as plt\n",
    "import pandas as pd \n",
    "import os"
   ]
  },
  {
   "cell_type": "code",
   "execution_count": 13,
   "id": "impossible-practice",
   "metadata": {
    "scrolled": false
   },
   "outputs": [
    {
     "name": "stdout",
     "output_type": "stream",
     "text": [
      "/home/aiffel-dj19/kimoonpark\r\n"
     ]
    }
   ],
   "source": [
    "!pwd"
   ]
  },
  {
   "cell_type": "code",
   "execution_count": 14,
   "id": "mathematical-moment",
   "metadata": {},
   "outputs": [
    {
     "data": {
      "text/plain": [
       "'/home/aiffel-dj19'"
      ]
     },
     "execution_count": 14,
     "metadata": {},
     "output_type": "execute_result"
    }
   ],
   "source": [
    "os.getenv('HOME')"
   ]
  },
  {
   "cell_type": "code",
   "execution_count": 15,
   "id": "desperate-factory",
   "metadata": {},
   "outputs": [],
   "source": [
    "data_path = os.getenv('HOME')+'/kimoonpark/silicon_valley_details.csv'"
   ]
  },
  {
   "cell_type": "code",
   "execution_count": 16,
   "id": "outstanding-purpose",
   "metadata": {},
   "outputs": [
    {
     "data": {
      "text/html": [
       "<div>\n",
       "<style scoped>\n",
       "    .dataframe tbody tr th:only-of-type {\n",
       "        vertical-align: middle;\n",
       "    }\n",
       "\n",
       "    .dataframe tbody tr th {\n",
       "        vertical-align: top;\n",
       "    }\n",
       "\n",
       "    .dataframe thead th {\n",
       "        text-align: right;\n",
       "    }\n",
       "</style>\n",
       "<table border=\"1\" class=\"dataframe\">\n",
       "  <thead>\n",
       "    <tr style=\"text-align: right;\">\n",
       "      <th></th>\n",
       "      <th>company</th>\n",
       "      <th>year</th>\n",
       "      <th>race</th>\n",
       "      <th>gender</th>\n",
       "      <th>job_category</th>\n",
       "      <th>count</th>\n",
       "    </tr>\n",
       "  </thead>\n",
       "  <tbody>\n",
       "    <tr>\n",
       "      <th>0</th>\n",
       "      <td>23andMe</td>\n",
       "      <td>2016</td>\n",
       "      <td>Hispanic_or_Latino</td>\n",
       "      <td>male</td>\n",
       "      <td>Executives</td>\n",
       "      <td>0</td>\n",
       "    </tr>\n",
       "    <tr>\n",
       "      <th>1</th>\n",
       "      <td>23andMe</td>\n",
       "      <td>2016</td>\n",
       "      <td>Hispanic_or_Latino</td>\n",
       "      <td>male</td>\n",
       "      <td>Managers</td>\n",
       "      <td>1</td>\n",
       "    </tr>\n",
       "    <tr>\n",
       "      <th>2</th>\n",
       "      <td>23andMe</td>\n",
       "      <td>2016</td>\n",
       "      <td>Hispanic_or_Latino</td>\n",
       "      <td>male</td>\n",
       "      <td>Professionals</td>\n",
       "      <td>7</td>\n",
       "    </tr>\n",
       "    <tr>\n",
       "      <th>3</th>\n",
       "      <td>23andMe</td>\n",
       "      <td>2016</td>\n",
       "      <td>Hispanic_or_Latino</td>\n",
       "      <td>male</td>\n",
       "      <td>Technicians</td>\n",
       "      <td>0</td>\n",
       "    </tr>\n",
       "    <tr>\n",
       "      <th>4</th>\n",
       "      <td>23andMe</td>\n",
       "      <td>2016</td>\n",
       "      <td>Hispanic_or_Latino</td>\n",
       "      <td>male</td>\n",
       "      <td>Sales workers</td>\n",
       "      <td>0</td>\n",
       "    </tr>\n",
       "    <tr>\n",
       "      <th>...</th>\n",
       "      <td>...</td>\n",
       "      <td>...</td>\n",
       "      <td>...</td>\n",
       "      <td>...</td>\n",
       "      <td>...</td>\n",
       "      <td>...</td>\n",
       "    </tr>\n",
       "    <tr>\n",
       "      <th>4435</th>\n",
       "      <td>Sanmina</td>\n",
       "      <td>2016</td>\n",
       "      <td>Overall_totals</td>\n",
       "      <td>NaN</td>\n",
       "      <td>laborers and helpers</td>\n",
       "      <td>4</td>\n",
       "    </tr>\n",
       "    <tr>\n",
       "      <th>4436</th>\n",
       "      <td>Sanmina</td>\n",
       "      <td>2016</td>\n",
       "      <td>Overall_totals</td>\n",
       "      <td>NaN</td>\n",
       "      <td>Service workers</td>\n",
       "      <td>57</td>\n",
       "    </tr>\n",
       "    <tr>\n",
       "      <th>4437</th>\n",
       "      <td>Sanmina</td>\n",
       "      <td>2016</td>\n",
       "      <td>Overall_totals</td>\n",
       "      <td>NaN</td>\n",
       "      <td>Totals</td>\n",
       "      <td>5205</td>\n",
       "    </tr>\n",
       "    <tr>\n",
       "      <th>4438</th>\n",
       "      <td>Sanmina</td>\n",
       "      <td>2016</td>\n",
       "      <td>Overall_totals</td>\n",
       "      <td>NaN</td>\n",
       "      <td>Previous_totals</td>\n",
       "      <td>5615</td>\n",
       "    </tr>\n",
       "    <tr>\n",
       "      <th>4439</th>\n",
       "      <td>Sanmina</td>\n",
       "      <td>2016</td>\n",
       "      <td>Overall_totals</td>\n",
       "      <td>NaN</td>\n",
       "      <td>Managers</td>\n",
       "      <td>591</td>\n",
       "    </tr>\n",
       "  </tbody>\n",
       "</table>\n",
       "<p>4440 rows × 6 columns</p>\n",
       "</div>"
      ],
      "text/plain": [
       "      company  year                race gender          job_category  count\n",
       "0     23andMe  2016  Hispanic_or_Latino   male            Executives      0\n",
       "1     23andMe  2016  Hispanic_or_Latino   male              Managers      1\n",
       "2     23andMe  2016  Hispanic_or_Latino   male         Professionals      7\n",
       "3     23andMe  2016  Hispanic_or_Latino   male           Technicians      0\n",
       "4     23andMe  2016  Hispanic_or_Latino   male         Sales workers      0\n",
       "...       ...   ...                 ...    ...                   ...    ...\n",
       "4435  Sanmina  2016      Overall_totals    NaN  laborers and helpers      4\n",
       "4436  Sanmina  2016      Overall_totals    NaN       Service workers     57\n",
       "4437  Sanmina  2016      Overall_totals    NaN                Totals   5205\n",
       "4438  Sanmina  2016      Overall_totals    NaN       Previous_totals   5615\n",
       "4439  Sanmina  2016      Overall_totals    NaN              Managers    591\n",
       "\n",
       "[4440 rows x 6 columns]"
      ]
     },
     "execution_count": 16,
     "metadata": {},
     "output_type": "execute_result"
    }
   ],
   "source": [
    "data = pd.read_csv(data_path)\n",
    "data                 "
   ]
  },
  {
   "cell_type": "code",
   "execution_count": 47,
   "id": "fifty-diagram",
   "metadata": {
    "scrolled": true
   },
   "outputs": [
    {
     "data": {
      "text/html": [
       "<div>\n",
       "<style scoped>\n",
       "    .dataframe tbody tr th:only-of-type {\n",
       "        vertical-align: middle;\n",
       "    }\n",
       "\n",
       "    .dataframe tbody tr th {\n",
       "        vertical-align: top;\n",
       "    }\n",
       "\n",
       "    .dataframe thead th {\n",
       "        text-align: right;\n",
       "    }\n",
       "</style>\n",
       "<table border=\"1\" class=\"dataframe\">\n",
       "  <thead>\n",
       "    <tr style=\"text-align: right;\">\n",
       "      <th></th>\n",
       "      <th>company</th>\n",
       "      <th>year</th>\n",
       "      <th>race</th>\n",
       "      <th>gender</th>\n",
       "      <th>job_category</th>\n",
       "      <th>count</th>\n",
       "    </tr>\n",
       "  </thead>\n",
       "  <tbody>\n",
       "    <tr>\n",
       "      <th>165</th>\n",
       "      <td>Adobe</td>\n",
       "      <td>2016</td>\n",
       "      <td>Hispanic_or_Latino</td>\n",
       "      <td>male</td>\n",
       "      <td>Executives</td>\n",
       "      <td>3</td>\n",
       "    </tr>\n",
       "    <tr>\n",
       "      <th>166</th>\n",
       "      <td>Adobe</td>\n",
       "      <td>2016</td>\n",
       "      <td>Hispanic_or_Latino</td>\n",
       "      <td>male</td>\n",
       "      <td>Managers</td>\n",
       "      <td>51</td>\n",
       "    </tr>\n",
       "    <tr>\n",
       "      <th>167</th>\n",
       "      <td>Adobe</td>\n",
       "      <td>2016</td>\n",
       "      <td>Hispanic_or_Latino</td>\n",
       "      <td>male</td>\n",
       "      <td>Professionals</td>\n",
       "      <td>75</td>\n",
       "    </tr>\n",
       "    <tr>\n",
       "      <th>169</th>\n",
       "      <td>Adobe</td>\n",
       "      <td>2016</td>\n",
       "      <td>Hispanic_or_Latino</td>\n",
       "      <td>male</td>\n",
       "      <td>Sales workers</td>\n",
       "      <td>33</td>\n",
       "    </tr>\n",
       "    <tr>\n",
       "      <th>170</th>\n",
       "      <td>Adobe</td>\n",
       "      <td>2016</td>\n",
       "      <td>Hispanic_or_Latino</td>\n",
       "      <td>male</td>\n",
       "      <td>Administrative support</td>\n",
       "      <td>8</td>\n",
       "    </tr>\n",
       "    <tr>\n",
       "      <th>...</th>\n",
       "      <td>...</td>\n",
       "      <td>...</td>\n",
       "      <td>...</td>\n",
       "      <td>...</td>\n",
       "      <td>...</td>\n",
       "      <td>...</td>\n",
       "    </tr>\n",
       "    <tr>\n",
       "      <th>333</th>\n",
       "      <td>Adobe</td>\n",
       "      <td>2016</td>\n",
       "      <td>Overall_totals</td>\n",
       "      <td>NaN</td>\n",
       "      <td>Executives</td>\n",
       "      <td>93</td>\n",
       "    </tr>\n",
       "    <tr>\n",
       "      <th>334</th>\n",
       "      <td>Adobe</td>\n",
       "      <td>2016</td>\n",
       "      <td>Overall_totals</td>\n",
       "      <td>NaN</td>\n",
       "      <td>Managers</td>\n",
       "      <td>2448</td>\n",
       "    </tr>\n",
       "    <tr>\n",
       "      <th>335</th>\n",
       "      <td>Adobe</td>\n",
       "      <td>2016</td>\n",
       "      <td>Overall_totals</td>\n",
       "      <td>NaN</td>\n",
       "      <td>Professionals</td>\n",
       "      <td>3028</td>\n",
       "    </tr>\n",
       "    <tr>\n",
       "      <th>337</th>\n",
       "      <td>Adobe</td>\n",
       "      <td>2016</td>\n",
       "      <td>Overall_totals</td>\n",
       "      <td>NaN</td>\n",
       "      <td>Sales workers</td>\n",
       "      <td>1270</td>\n",
       "    </tr>\n",
       "    <tr>\n",
       "      <th>338</th>\n",
       "      <td>Adobe</td>\n",
       "      <td>2016</td>\n",
       "      <td>Overall_totals</td>\n",
       "      <td>NaN</td>\n",
       "      <td>Administrative support</td>\n",
       "      <td>323</td>\n",
       "    </tr>\n",
       "  </tbody>\n",
       "</table>\n",
       "<p>61 rows × 6 columns</p>\n",
       "</div>"
      ],
      "text/plain": [
       "    company  year                race gender            job_category  count\n",
       "165   Adobe  2016  Hispanic_or_Latino   male              Executives      3\n",
       "166   Adobe  2016  Hispanic_or_Latino   male                Managers     51\n",
       "167   Adobe  2016  Hispanic_or_Latino   male           Professionals     75\n",
       "169   Adobe  2016  Hispanic_or_Latino   male           Sales workers     33\n",
       "170   Adobe  2016  Hispanic_or_Latino   male  Administrative support      8\n",
       "..      ...   ...                 ...    ...                     ...    ...\n",
       "333   Adobe  2016      Overall_totals    NaN              Executives     93\n",
       "334   Adobe  2016      Overall_totals    NaN                Managers   2448\n",
       "335   Adobe  2016      Overall_totals    NaN           Professionals   3028\n",
       "337   Adobe  2016      Overall_totals    NaN           Sales workers   1270\n",
       "338   Adobe  2016      Overall_totals    NaN  Administrative support    323\n",
       "\n",
       "[61 rows x 6 columns]"
      ]
     },
     "execution_count": 47,
     "metadata": {},
     "output_type": "execute_result"
    }
   ],
   "source": [
    "# Adobe 직원의 직군 분포를 파이 그래프로 그리기(단, 인원이 0인 직군은 표시되지 않아야한다.)\n",
    "filtered_data = data[(data['company']=='Adobe')&(data['count']!=0)&(data['job_category']!='Totals')&(data['job_category']!='Previous_totals')]\n",
    "filtered_data"
   ]
  },
  {
   "cell_type": "code",
   "execution_count": 48,
   "id": "fresh-australia",
   "metadata": {},
   "outputs": [
    {
     "data": {
      "text/plain": [
       "['Managers',\n",
       " 'Professionals',\n",
       " 'Administrative support',\n",
       " 'Sales workers',\n",
       " 'Executives']"
      ]
     },
     "execution_count": 48,
     "metadata": {},
     "output_type": "execute_result"
    }
   ],
   "source": [
    "job_cat_idx = filtered_data.value_counts('job_category').index.tolist()\n",
    "job_cat_idx"
   ]
  },
  {
   "cell_type": "code",
   "execution_count": 69,
   "id": "digital-duplicate",
   "metadata": {
    "scrolled": true
   },
   "outputs": [
    {
     "data": {
      "text/plain": [
       "[4896, 6056, 646, 2540, 186]"
      ]
     },
     "execution_count": 69,
     "metadata": {},
     "output_type": "execute_result"
    }
   ],
   "source": [
    "job_cat_cnt = []\n",
    "for job_name in job_cat_idx:\n",
    "    job_cat_cnt.append(filtered_data[filtered_data['job_category']==job_name]['count'].sum())\n",
    "job_cat_cnt"
   ]
  },
  {
   "cell_type": "code",
   "execution_count": 73,
   "id": "banner-pioneer",
   "metadata": {},
   "outputs": [
    {
     "data": {
      "text/html": [
       "<div>\n",
       "<style scoped>\n",
       "    .dataframe tbody tr th:only-of-type {\n",
       "        vertical-align: middle;\n",
       "    }\n",
       "\n",
       "    .dataframe tbody tr th {\n",
       "        vertical-align: top;\n",
       "    }\n",
       "\n",
       "    .dataframe thead th {\n",
       "        text-align: right;\n",
       "    }\n",
       "</style>\n",
       "<table border=\"1\" class=\"dataframe\">\n",
       "  <thead>\n",
       "    <tr style=\"text-align: right;\">\n",
       "      <th></th>\n",
       "      <th>count</th>\n",
       "    </tr>\n",
       "  </thead>\n",
       "  <tbody>\n",
       "    <tr>\n",
       "      <th>Managers</th>\n",
       "      <td>4896</td>\n",
       "    </tr>\n",
       "    <tr>\n",
       "      <th>Professionals</th>\n",
       "      <td>6056</td>\n",
       "    </tr>\n",
       "    <tr>\n",
       "      <th>Administrative support</th>\n",
       "      <td>646</td>\n",
       "    </tr>\n",
       "    <tr>\n",
       "      <th>Sales workers</th>\n",
       "      <td>2540</td>\n",
       "    </tr>\n",
       "    <tr>\n",
       "      <th>Executives</th>\n",
       "      <td>186</td>\n",
       "    </tr>\n",
       "  </tbody>\n",
       "</table>\n",
       "</div>"
      ],
      "text/plain": [
       "                        count\n",
       "Managers                 4896\n",
       "Professionals            6056\n",
       "Administrative support    646\n",
       "Sales workers            2540\n",
       "Executives                186"
      ]
     },
     "execution_count": 73,
     "metadata": {},
     "output_type": "execute_result"
    }
   ],
   "source": [
    "job_cat_df = pd.DataFrame(index=job_cat_idx)\n",
    "job_cat_df['count']=job_cat_cnt\n",
    "job_cat_df"
   ]
  },
  {
   "cell_type": "code",
   "execution_count": 74,
   "id": "collaborative-liverpool",
   "metadata": {
    "scrolled": true
   },
   "outputs": [
    {
     "data": {
      "text/plain": [
       "<AxesSubplot:ylabel='count'>"
      ]
     },
     "execution_count": 74,
     "metadata": {},
     "output_type": "execute_result"
    },
    {
     "data": {
      "image/png": "[encoded data removed]",
      "text/plain": [
       "<Figure size 432x288 with 1 Axes>"
      ]
     },
     "metadata": {},
     "output_type": "display_data"
    }
   ],
   "source": [
    "job_cat_df.plot(kind='pie', y='count', legend=job_cat_idx)"
   ]
  },
  {
   "cell_type": "code",
   "execution_count": 80,
   "id": "warming-marketing",
   "metadata": {},
   "outputs": [
    {
     "data": {
      "text/plain": [
       "<matplotlib.legend.Legend at 0x7f476a07d890>"
      ]
     },
     "execution_count": 80,
     "metadata": {},
     "output_type": "execute_result"
    },
    {
     "data": {
      "image/png": "[encoded data removed]",
      "text/plain": [
       "<Figure size 432x288 with 1 Axes>"
      ]
     },
     "metadata": {},
     "output_type": "display_data"
    }
   ],
   "source": [
    "plt.pie(job_cat_df['count'], labels=job_cat_idx)\n",
    "plt.legend(job_cat_idx)"
   ]
  }
 ],
 "metadata": {
  "kernelspec": {
   "display_name": "aiffel",
   "language": "python",
   "name": "aiffel"
  },
  "language_info": {
   "codemirror_mode": {
    "name": "ipython",
    "version": 3
   },
   "file_extension": ".py",
   "mimetype": "text/x-python",
   "name": "python",
   "nbconvert_exporter": "python",
   "pygments_lexer": "ipython3",
   "version": "3.7.10"
  },
  "toc": {
   "base_numbering": 1,
   "nav_menu": {},
   "number_sections": true,
   "sideBar": true,
   "skip_h1_title": false,
   "title_cell": "Table of Contents",
   "title_sidebar": "Contents",
   "toc_cell": false,
   "toc_position": {},
   "toc_section_display": true,
   "toc_window_display": false
  }
 },
 "nbformat": 4,
 "nbformat_minor": 5
}
